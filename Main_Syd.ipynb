{
 "cells": [
  {
   "cell_type": "code",
   "execution_count": 1,
   "id": "31ac74c3",
   "metadata": {
    "ExecuteTime": {
     "end_time": "2021-07-22T06:22:41.493828Z",
     "start_time": "2021-07-22T06:22:40.762575Z"
    }
   },
   "outputs": [],
   "source": [
    "import numpy as np\n",
    "import pandas as pd\n",
    "import matplotlib.pyplot as plt"
   ]
  },
  {
   "cell_type": "code",
   "execution_count": 2,
   "id": "3df83464",
   "metadata": {
    "ExecuteTime": {
     "end_time": "2021-07-22T06:23:27.665243Z",
     "start_time": "2021-07-22T06:22:43.743744Z"
    },
    "slideshow": {
     "slide_type": "subslide"
    }
   },
   "outputs": [],
   "source": [
    "df_full = pd.read_csv('/mnt/processed/private/msds2022/lt10/lfb_clean.csv',\n",
    "                 low_memory=False)"
   ]
  },
  {
   "cell_type": "code",
   "execution_count": 4,
   "id": "e5b53474",
   "metadata": {
    "ExecuteTime": {
     "end_time": "2021-07-22T06:24:47.630257Z",
     "start_time": "2021-07-22T06:24:47.428166Z"
    }
   },
   "outputs": [
    {
     "data": {
      "text/html": [
       "<div>\n",
       "<style scoped>\n",
       "    .dataframe tbody tr th:only-of-type {\n",
       "        vertical-align: middle;\n",
       "    }\n",
       "\n",
       "    .dataframe tbody tr th {\n",
       "        vertical-align: top;\n",
       "    }\n",
       "\n",
       "    .dataframe thead th {\n",
       "        text-align: right;\n",
       "    }\n",
       "</style>\n",
       "<table border=\"1\" class=\"dataframe\">\n",
       "  <thead>\n",
       "    <tr style=\"text-align: right;\">\n",
       "      <th></th>\n",
       "      <th>DateOfCall</th>\n",
       "      <th>CalYear</th>\n",
       "      <th>HourOfCall</th>\n",
       "      <th>IncidentGroup</th>\n",
       "      <th>StopCodeDescription</th>\n",
       "      <th>PropertyCategory</th>\n",
       "      <th>PropertyType</th>\n",
       "      <th>AddressQualifier</th>\n",
       "      <th>Postcode_district</th>\n",
       "      <th>IncGeo_BoroughCode</th>\n",
       "      <th>...</th>\n",
       "      <th>Happiness_score_2011-14_(out_of_10)</th>\n",
       "      <th>Anxiety_score_2011-14_(out_of_10)</th>\n",
       "      <th>Childhood_Obesity_Prevalance_(%)_2015/16</th>\n",
       "      <th>People_aged_17+_with_diabetes_(%)</th>\n",
       "      <th>Mortality_rate_from_causes_considered_preventable_2012/14</th>\n",
       "      <th>Political_control_in_council</th>\n",
       "      <th>Proportion_of_seats_won_by_Conservatives_in_2014_election</th>\n",
       "      <th>Proportion_of_seats_won_by_Labour_in_2014_election</th>\n",
       "      <th>Proportion_of_seats_won_by_Lib_Dems_in_2014_election</th>\n",
       "      <th>Turnout_at_2014_local_elections</th>\n",
       "    </tr>\n",
       "  </thead>\n",
       "  <tbody>\n",
       "    <tr>\n",
       "      <th>1</th>\n",
       "      <td>2017-01-01</td>\n",
       "      <td>2017</td>\n",
       "      <td>1</td>\n",
       "      <td>False Alarm</td>\n",
       "      <td>False alarm - Good intent</td>\n",
       "      <td>Dwelling</td>\n",
       "      <td>House - single occupancy</td>\n",
       "      <td>Correct incident location</td>\n",
       "      <td>E15</td>\n",
       "      <td>E09000025</td>\n",
       "      <td>...</td>\n",
       "      <td>7.2</td>\n",
       "      <td>3.4</td>\n",
       "      <td>27.6</td>\n",
       "      <td>7.6</td>\n",
       "      <td>193</td>\n",
       "      <td>Lab</td>\n",
       "      <td>0</td>\n",
       "      <td>100</td>\n",
       "      <td>0</td>\n",
       "      <td>40.5</td>\n",
       "    </tr>\n",
       "    <tr>\n",
       "      <th>4</th>\n",
       "      <td>2017-01-01</td>\n",
       "      <td>2017</td>\n",
       "      <td>22</td>\n",
       "      <td>False Alarm</td>\n",
       "      <td>AFA</td>\n",
       "      <td>Dwelling</td>\n",
       "      <td>House - single occupancy</td>\n",
       "      <td>Correct incident location</td>\n",
       "      <td>E15</td>\n",
       "      <td>E09000025</td>\n",
       "      <td>...</td>\n",
       "      <td>7.2</td>\n",
       "      <td>3.4</td>\n",
       "      <td>27.6</td>\n",
       "      <td>7.6</td>\n",
       "      <td>193</td>\n",
       "      <td>Lab</td>\n",
       "      <td>0</td>\n",
       "      <td>100</td>\n",
       "      <td>0</td>\n",
       "      <td>40.5</td>\n",
       "    </tr>\n",
       "    <tr>\n",
       "      <th>18</th>\n",
       "      <td>2017-01-02</td>\n",
       "      <td>2017</td>\n",
       "      <td>18</td>\n",
       "      <td>False Alarm</td>\n",
       "      <td>AFA</td>\n",
       "      <td>Other Residential</td>\n",
       "      <td>Retirement/Old Persons Home</td>\n",
       "      <td>Correct incident location</td>\n",
       "      <td>E6</td>\n",
       "      <td>E09000025</td>\n",
       "      <td>...</td>\n",
       "      <td>7.2</td>\n",
       "      <td>3.4</td>\n",
       "      <td>27.6</td>\n",
       "      <td>7.6</td>\n",
       "      <td>193</td>\n",
       "      <td>Lab</td>\n",
       "      <td>0</td>\n",
       "      <td>100</td>\n",
       "      <td>0</td>\n",
       "      <td>40.5</td>\n",
       "    </tr>\n",
       "    <tr>\n",
       "      <th>21</th>\n",
       "      <td>2017-01-03</td>\n",
       "      <td>2017</td>\n",
       "      <td>5</td>\n",
       "      <td>False Alarm</td>\n",
       "      <td>False alarm - Malicious</td>\n",
       "      <td>Dwelling</td>\n",
       "      <td>House - single occupancy</td>\n",
       "      <td>Correct incident location</td>\n",
       "      <td>E15</td>\n",
       "      <td>E09000025</td>\n",
       "      <td>...</td>\n",
       "      <td>7.2</td>\n",
       "      <td>3.4</td>\n",
       "      <td>27.6</td>\n",
       "      <td>7.6</td>\n",
       "      <td>193</td>\n",
       "      <td>Lab</td>\n",
       "      <td>0</td>\n",
       "      <td>100</td>\n",
       "      <td>0</td>\n",
       "      <td>40.5</td>\n",
       "    </tr>\n",
       "    <tr>\n",
       "      <th>24</th>\n",
       "      <td>2017-01-03</td>\n",
       "      <td>2017</td>\n",
       "      <td>16</td>\n",
       "      <td>False Alarm</td>\n",
       "      <td>False alarm - Good intent</td>\n",
       "      <td>Outdoor</td>\n",
       "      <td>Road surface/pavement</td>\n",
       "      <td>On motorway / elevated road</td>\n",
       "      <td>E13</td>\n",
       "      <td>E09000025</td>\n",
       "      <td>...</td>\n",
       "      <td>7.2</td>\n",
       "      <td>3.4</td>\n",
       "      <td>27.6</td>\n",
       "      <td>7.6</td>\n",
       "      <td>193</td>\n",
       "      <td>Lab</td>\n",
       "      <td>0</td>\n",
       "      <td>100</td>\n",
       "      <td>0</td>\n",
       "      <td>40.5</td>\n",
       "    </tr>\n",
       "  </tbody>\n",
       "</table>\n",
       "<p>5 rows × 106 columns</p>\n",
       "</div>"
      ],
      "text/plain": [
       "    DateOfCall  CalYear  HourOfCall IncidentGroup        StopCodeDescription  \\\n",
       "1   2017-01-01     2017           1   False Alarm  False alarm - Good intent   \n",
       "4   2017-01-01     2017          22   False Alarm                        AFA   \n",
       "18  2017-01-02     2017          18   False Alarm                        AFA   \n",
       "21  2017-01-03     2017           5   False Alarm    False alarm - Malicious   \n",
       "24  2017-01-03     2017          16   False Alarm  False alarm - Good intent   \n",
       "\n",
       "     PropertyCategory                 PropertyType  \\\n",
       "1            Dwelling    House - single occupancy    \n",
       "4            Dwelling    House - single occupancy    \n",
       "18  Other Residential  Retirement/Old Persons Home   \n",
       "21           Dwelling    House - single occupancy    \n",
       "24            Outdoor       Road surface/pavement    \n",
       "\n",
       "               AddressQualifier Postcode_district IncGeo_BoroughCode  ...  \\\n",
       "1     Correct incident location               E15          E09000025  ...   \n",
       "4     Correct incident location               E15          E09000025  ...   \n",
       "18    Correct incident location                E6          E09000025  ...   \n",
       "21    Correct incident location               E15          E09000025  ...   \n",
       "24  On motorway / elevated road               E13          E09000025  ...   \n",
       "\n",
       "   Happiness_score_2011-14_(out_of_10) Anxiety_score_2011-14_(out_of_10)  \\\n",
       "1                                  7.2                               3.4   \n",
       "4                                  7.2                               3.4   \n",
       "18                                 7.2                               3.4   \n",
       "21                                 7.2                               3.4   \n",
       "24                                 7.2                               3.4   \n",
       "\n",
       "   Childhood_Obesity_Prevalance_(%)_2015/16 People_aged_17+_with_diabetes_(%)  \\\n",
       "1                                      27.6                               7.6   \n",
       "4                                      27.6                               7.6   \n",
       "18                                     27.6                               7.6   \n",
       "21                                     27.6                               7.6   \n",
       "24                                     27.6                               7.6   \n",
       "\n",
       "   Mortality_rate_from_causes_considered_preventable_2012/14  \\\n",
       "1                                                 193          \n",
       "4                                                 193          \n",
       "18                                                193          \n",
       "21                                                193          \n",
       "24                                                193          \n",
       "\n",
       "    Political_control_in_council  \\\n",
       "1                            Lab   \n",
       "4                            Lab   \n",
       "18                           Lab   \n",
       "21                           Lab   \n",
       "24                           Lab   \n",
       "\n",
       "    Proportion_of_seats_won_by_Conservatives_in_2014_election  \\\n",
       "1                                                   0           \n",
       "4                                                   0           \n",
       "18                                                  0           \n",
       "21                                                  0           \n",
       "24                                                  0           \n",
       "\n",
       "   Proportion_of_seats_won_by_Labour_in_2014_election  \\\n",
       "1                                                 100   \n",
       "4                                                 100   \n",
       "18                                                100   \n",
       "21                                                100   \n",
       "24                                                100   \n",
       "\n",
       "   Proportion_of_seats_won_by_Lib_Dems_in_2014_election  \\\n",
       "1                                                   0     \n",
       "4                                                   0     \n",
       "18                                                  0     \n",
       "21                                                  0     \n",
       "24                                                  0     \n",
       "\n",
       "    Turnout_at_2014_local_elections  \n",
       "1                              40.5  \n",
       "4                              40.5  \n",
       "18                             40.5  \n",
       "21                             40.5  \n",
       "24                             40.5  \n",
       "\n",
       "[5 rows x 106 columns]"
      ]
     },
     "execution_count": 4,
     "metadata": {},
     "output_type": "execute_result"
    }
   ],
   "source": [
    "df_fa = df_full[(df_full.IncidentGroup == \"False Alarm\") & (df_full.CalYear == 2017)]\n",
    "\n",
    "df_fa.head(5)"
   ]
  },
  {
   "cell_type": "code",
   "execution_count": 5,
   "id": "70c22711",
   "metadata": {
    "ExecuteTime": {
     "end_time": "2021-07-22T06:24:58.991199Z",
     "start_time": "2021-07-22T06:24:58.914976Z"
    }
   },
   "outputs": [],
   "source": [
    "df_afa = df_fa[df_fa.StopCodeDescription == \"AFA\"]\n",
    "df_good = df_fa[df_fa.StopCodeDescription == \"False alarm - Good intent\"]\n",
    "df_bad = df_fa[df_fa.StopCodeDescription == \"False alarm - Malicious\"]\n"
   ]
  },
  {
   "cell_type": "code",
   "execution_count": 6,
   "id": "77d88905",
   "metadata": {
    "ExecuteTime": {
     "end_time": "2021-07-22T06:25:00.249835Z",
     "start_time": "2021-07-22T06:25:00.202352Z"
    }
   },
   "outputs": [
    {
     "data": {
      "text/html": [
       "<div>\n",
       "<style scoped>\n",
       "    .dataframe tbody tr th:only-of-type {\n",
       "        vertical-align: middle;\n",
       "    }\n",
       "\n",
       "    .dataframe tbody tr th {\n",
       "        vertical-align: top;\n",
       "    }\n",
       "\n",
       "    .dataframe thead th {\n",
       "        text-align: right;\n",
       "    }\n",
       "</style>\n",
       "<table border=\"1\" class=\"dataframe\">\n",
       "  <thead>\n",
       "    <tr style=\"text-align: right;\">\n",
       "      <th>Inner/_Outer_London</th>\n",
       "      <th>Inner London</th>\n",
       "      <th>Outer London</th>\n",
       "      <th>%_of_Inner</th>\n",
       "      <th>%_of_Outer</th>\n",
       "    </tr>\n",
       "    <tr>\n",
       "      <th>CalYear</th>\n",
       "      <th></th>\n",
       "      <th></th>\n",
       "      <th></th>\n",
       "      <th></th>\n",
       "    </tr>\n",
       "  </thead>\n",
       "  <tbody>\n",
       "    <tr>\n",
       "      <th>2017</th>\n",
       "      <td>28454</td>\n",
       "      <td>23273</td>\n",
       "      <td>0.55008</td>\n",
       "      <td>0.44992</td>\n",
       "    </tr>\n",
       "  </tbody>\n",
       "</table>\n",
       "</div>"
      ],
      "text/plain": [
       "Inner/_Outer_London  Inner London  Outer London  %_of_Inner  %_of_Outer\n",
       "CalYear                                                                \n",
       "2017                        28454         23273     0.55008     0.44992"
      ]
     },
     "execution_count": 6,
     "metadata": {},
     "output_type": "execute_result"
    }
   ],
   "source": [
    "inn_out = pd.pivot_table(df_fa,values='DateOfCall', index='CalYear', columns='Inner/_Outer_London', aggfunc=len)\n",
    "inn_out['%_of_Inner'] = inn_out['Inner London']/(inn_out['Inner London'] + inn_out['Outer London'])\n",
    "inn_out['%_of_Outer'] = inn_out['Outer London']/(inn_out['Inner London'] + inn_out['Outer London'])\n",
    "\n",
    "inn_out"
   ]
  },
  {
   "cell_type": "code",
   "execution_count": 7,
   "id": "a399f64d",
   "metadata": {
    "ExecuteTime": {
     "end_time": "2021-07-22T06:25:02.774237Z",
     "start_time": "2021-07-22T06:25:02.700029Z"
    }
   },
   "outputs": [
    {
     "data": {
      "text/html": [
       "<div>\n",
       "<style scoped>\n",
       "    .dataframe tbody tr th:only-of-type {\n",
       "        vertical-align: middle;\n",
       "    }\n",
       "\n",
       "    .dataframe tbody tr th {\n",
       "        vertical-align: top;\n",
       "    }\n",
       "\n",
       "    .dataframe thead th {\n",
       "        text-align: right;\n",
       "    }\n",
       "</style>\n",
       "<table border=\"1\" class=\"dataframe\">\n",
       "  <thead>\n",
       "    <tr style=\"text-align: right;\">\n",
       "      <th>StopCodeDescription</th>\n",
       "      <th>AFA</th>\n",
       "      <th>False alarm - Good intent</th>\n",
       "      <th>False alarm - Malicious</th>\n",
       "    </tr>\n",
       "    <tr>\n",
       "      <th>CalYear</th>\n",
       "      <th></th>\n",
       "      <th></th>\n",
       "      <th></th>\n",
       "    </tr>\n",
       "  </thead>\n",
       "  <tbody>\n",
       "    <tr>\n",
       "      <th>2017</th>\n",
       "      <td>22565</td>\n",
       "      <td>5208</td>\n",
       "      <td>681</td>\n",
       "    </tr>\n",
       "  </tbody>\n",
       "</table>\n",
       "</div>"
      ],
      "text/plain": [
       "StopCodeDescription    AFA  False alarm - Good intent  False alarm - Malicious\n",
       "CalYear                                                                       \n",
       "2017                 22565                       5208                      681"
      ]
     },
     "execution_count": 7,
     "metadata": {},
     "output_type": "execute_result"
    }
   ],
   "source": [
    "# Inner London FAs\n",
    "\n",
    "pd.pivot_table(df_fa[df_fa['Inner/_Outer_London']=='Inner London']\n",
    "                         , values='DateOfCall'\n",
    "                         , index='CalYear'\n",
    "                         , columns='StopCodeDescription'\n",
    "                         , aggfunc=len)\n"
   ]
  },
  {
   "cell_type": "code",
   "execution_count": 8,
   "id": "22e8a262",
   "metadata": {
    "ExecuteTime": {
     "end_time": "2021-07-22T06:25:05.317491Z",
     "start_time": "2021-07-22T06:25:05.259735Z"
    }
   },
   "outputs": [
    {
     "data": {
      "text/html": [
       "<div>\n",
       "<style scoped>\n",
       "    .dataframe tbody tr th:only-of-type {\n",
       "        vertical-align: middle;\n",
       "    }\n",
       "\n",
       "    .dataframe tbody tr th {\n",
       "        vertical-align: top;\n",
       "    }\n",
       "\n",
       "    .dataframe thead th {\n",
       "        text-align: right;\n",
       "    }\n",
       "</style>\n",
       "<table border=\"1\" class=\"dataframe\">\n",
       "  <thead>\n",
       "    <tr style=\"text-align: right;\">\n",
       "      <th>StopCodeDescription</th>\n",
       "      <th>AFA</th>\n",
       "      <th>False alarm - Good intent</th>\n",
       "      <th>False alarm - Malicious</th>\n",
       "    </tr>\n",
       "    <tr>\n",
       "      <th>CalYear</th>\n",
       "      <th></th>\n",
       "      <th></th>\n",
       "      <th></th>\n",
       "    </tr>\n",
       "  </thead>\n",
       "  <tbody>\n",
       "    <tr>\n",
       "      <th>2017</th>\n",
       "      <td>16481</td>\n",
       "      <td>6153</td>\n",
       "      <td>639</td>\n",
       "    </tr>\n",
       "  </tbody>\n",
       "</table>\n",
       "</div>"
      ],
      "text/plain": [
       "StopCodeDescription    AFA  False alarm - Good intent  False alarm - Malicious\n",
       "CalYear                                                                       \n",
       "2017                 16481                       6153                      639"
      ]
     },
     "execution_count": 8,
     "metadata": {},
     "output_type": "execute_result"
    }
   ],
   "source": [
    "# Outer London FAs\n",
    "\n",
    "pd.pivot_table(df_fa[df_fa['Inner/_Outer_London']=='Outer London']\n",
    "                         , values='DateOfCall'\n",
    "                         , index='CalYear'\n",
    "                         , columns='StopCodeDescription'\n",
    "                         , aggfunc=len)"
   ]
  },
  {
   "cell_type": "code",
   "execution_count": 132,
   "id": "b15a3e67",
   "metadata": {
    "ExecuteTime": {
     "end_time": "2021-07-22T05:59:26.625133Z",
     "start_time": "2021-07-22T05:59:26.580622Z"
    }
   },
   "outputs": [
    {
     "data": {
      "text/html": [
       "<div>\n",
       "<style scoped>\n",
       "    .dataframe tbody tr th:only-of-type {\n",
       "        vertical-align: middle;\n",
       "    }\n",
       "\n",
       "    .dataframe tbody tr th {\n",
       "        vertical-align: top;\n",
       "    }\n",
       "\n",
       "    .dataframe thead th {\n",
       "        text-align: right;\n",
       "    }\n",
       "</style>\n",
       "<table border=\"1\" class=\"dataframe\">\n",
       "  <thead>\n",
       "    <tr style=\"text-align: right;\">\n",
       "      <th></th>\n",
       "      <th>CalYear</th>\n",
       "      <th>2017</th>\n",
       "    </tr>\n",
       "    <tr>\n",
       "      <th>ProperCase</th>\n",
       "      <th>Inland_Area_(Hectares)</th>\n",
       "      <th></th>\n",
       "    </tr>\n",
       "  </thead>\n",
       "  <tbody>\n",
       "    <tr>\n",
       "      <th>Barking And dagenham</th>\n",
       "      <th>3,611</th>\n",
       "      <td>854</td>\n",
       "    </tr>\n",
       "    <tr>\n",
       "      <th>Barnet</th>\n",
       "      <th>8,675</th>\n",
       "      <td>1800</td>\n",
       "    </tr>\n",
       "    <tr>\n",
       "      <th>Bexley</th>\n",
       "      <th>6,058</th>\n",
       "      <td>1041</td>\n",
       "    </tr>\n",
       "    <tr>\n",
       "      <th>Brent</th>\n",
       "      <th>4,323</th>\n",
       "      <td>1450</td>\n",
       "    </tr>\n",
       "    <tr>\n",
       "      <th>Bromley</th>\n",
       "      <th>15,013</th>\n",
       "      <td>1244</td>\n",
       "    </tr>\n",
       "    <tr>\n",
       "      <th>Camden</th>\n",
       "      <th>2,179</th>\n",
       "      <td>2935</td>\n",
       "    </tr>\n",
       "    <tr>\n",
       "      <th>City Of london</th>\n",
       "      <th>290</th>\n",
       "      <td>967</td>\n",
       "    </tr>\n",
       "    <tr>\n",
       "      <th>Croydon</th>\n",
       "      <th>8,650</th>\n",
       "      <td>1648</td>\n",
       "    </tr>\n",
       "    <tr>\n",
       "      <th>Ealing</th>\n",
       "      <th>5,554</th>\n",
       "      <td>1761</td>\n",
       "    </tr>\n",
       "    <tr>\n",
       "      <th>Enfield</th>\n",
       "      <th>8,083</th>\n",
       "      <td>1288</td>\n",
       "    </tr>\n",
       "    <tr>\n",
       "      <th>Greenwich</th>\n",
       "      <th>4,733</th>\n",
       "      <td>1318</td>\n",
       "    </tr>\n",
       "    <tr>\n",
       "      <th>Hackney</th>\n",
       "      <th>1,905</th>\n",
       "      <td>1833</td>\n",
       "    </tr>\n",
       "    <tr>\n",
       "      <th>Hammersmith And fulham</th>\n",
       "      <th>1,640</th>\n",
       "      <td>1640</td>\n",
       "    </tr>\n",
       "    <tr>\n",
       "      <th>Haringey</th>\n",
       "      <th>2,960</th>\n",
       "      <td>1308</td>\n",
       "    </tr>\n",
       "    <tr>\n",
       "      <th>Harrow</th>\n",
       "      <th>5,046</th>\n",
       "      <td>916</td>\n",
       "    </tr>\n",
       "    <tr>\n",
       "      <th>Havering</th>\n",
       "      <th>11,235</th>\n",
       "      <td>1017</td>\n",
       "    </tr>\n",
       "    <tr>\n",
       "      <th>Hillingdon</th>\n",
       "      <th>11,570</th>\n",
       "      <td>1521</td>\n",
       "    </tr>\n",
       "    <tr>\n",
       "      <th>Hounslow</th>\n",
       "      <th>5,598</th>\n",
       "      <td>1265</td>\n",
       "    </tr>\n",
       "    <tr>\n",
       "      <th>Islington</th>\n",
       "      <th>1,486</th>\n",
       "      <td>1723</td>\n",
       "    </tr>\n",
       "    <tr>\n",
       "      <th>Kensington And chelsea</th>\n",
       "      <th>1,212</th>\n",
       "      <td>2072</td>\n",
       "    </tr>\n",
       "    <tr>\n",
       "      <th>Kingston Upon thames</th>\n",
       "      <th>3,726</th>\n",
       "      <td>867</td>\n",
       "    </tr>\n",
       "    <tr>\n",
       "      <th>Lambeth</th>\n",
       "      <th>2,681</th>\n",
       "      <td>1853</td>\n",
       "    </tr>\n",
       "    <tr>\n",
       "      <th>Lewisham</th>\n",
       "      <th>3,515</th>\n",
       "      <td>1744</td>\n",
       "    </tr>\n",
       "    <tr>\n",
       "      <th>Merton</th>\n",
       "      <th>3,762</th>\n",
       "      <td>891</td>\n",
       "    </tr>\n",
       "    <tr>\n",
       "      <th>Newham</th>\n",
       "      <th>3,620</th>\n",
       "      <td>1326</td>\n",
       "    </tr>\n",
       "    <tr>\n",
       "      <th>Redbridge</th>\n",
       "      <th>5,642</th>\n",
       "      <td>1053</td>\n",
       "    </tr>\n",
       "    <tr>\n",
       "      <th>Richmond Upon thames</th>\n",
       "      <th>5,741</th>\n",
       "      <td>1055</td>\n",
       "    </tr>\n",
       "    <tr>\n",
       "      <th>Southwark</th>\n",
       "      <th>2,886</th>\n",
       "      <td>2334</td>\n",
       "    </tr>\n",
       "    <tr>\n",
       "      <th>Sutton</th>\n",
       "      <th>4,385</th>\n",
       "      <td>869</td>\n",
       "    </tr>\n",
       "    <tr>\n",
       "      <th>Tower Hamlets</th>\n",
       "      <th>1,978</th>\n",
       "      <td>1836</td>\n",
       "    </tr>\n",
       "    <tr>\n",
       "      <th>Waltham Forest</th>\n",
       "      <th>3,881</th>\n",
       "      <td>1415</td>\n",
       "    </tr>\n",
       "    <tr>\n",
       "      <th>Wandsworth</th>\n",
       "      <th>3,426</th>\n",
       "      <td>1519</td>\n",
       "    </tr>\n",
       "    <tr>\n",
       "      <th>Westminster</th>\n",
       "      <th>2,149</th>\n",
       "      <td>5364</td>\n",
       "    </tr>\n",
       "  </tbody>\n",
       "</table>\n",
       "</div>"
      ],
      "text/plain": [
       "CalYear                                        2017\n",
       "ProperCase             Inland_Area_(Hectares)      \n",
       "Barking And dagenham   3,611                    854\n",
       "Barnet                 8,675                   1800\n",
       "Bexley                 6,058                   1041\n",
       "Brent                  4,323                   1450\n",
       "Bromley                15,013                  1244\n",
       "Camden                 2,179                   2935\n",
       "City Of london         290                      967\n",
       "Croydon                8,650                   1648\n",
       "Ealing                 5,554                   1761\n",
       "Enfield                8,083                   1288\n",
       "Greenwich              4,733                   1318\n",
       "Hackney                1,905                   1833\n",
       "Hammersmith And fulham 1,640                   1640\n",
       "Haringey               2,960                   1308\n",
       "Harrow                 5,046                    916\n",
       "Havering               11,235                  1017\n",
       "Hillingdon             11,570                  1521\n",
       "Hounslow               5,598                   1265\n",
       "Islington              1,486                   1723\n",
       "Kensington And chelsea 1,212                   2072\n",
       "Kingston Upon thames   3,726                    867\n",
       "Lambeth                2,681                   1853\n",
       "Lewisham               3,515                   1744\n",
       "Merton                 3,762                    891\n",
       "Newham                 3,620                   1326\n",
       "Redbridge              5,642                   1053\n",
       "Richmond Upon thames   5,741                   1055\n",
       "Southwark              2,886                   2334\n",
       "Sutton                 4,385                    869\n",
       "Tower Hamlets          1,978                   1836\n",
       "Waltham Forest         3,881                   1415\n",
       "Wandsworth             3,426                   1519\n",
       "Westminster            2,149                   5364"
      ]
     },
     "execution_count": 132,
     "metadata": {},
     "output_type": "execute_result"
    }
   ],
   "source": [
    "# Per Borough - Inland Area - per year\n",
    "\n",
    "pd.pivot_table(df_fa\n",
    "               , values='DateOfCall'\n",
    "               , index=['ProperCase', 'Inland_Area_(Hectares)']\n",
    "               , columns='CalYear'\n",
    "               , aggfunc=len)"
   ]
  },
  {
   "cell_type": "code",
   "execution_count": 133,
   "id": "c8d9703e",
   "metadata": {
    "ExecuteTime": {
     "end_time": "2021-07-22T05:59:30.871935Z",
     "start_time": "2021-07-22T05:59:30.833115Z"
    }
   },
   "outputs": [
    {
     "data": {
      "text/html": [
       "<div>\n",
       "<style scoped>\n",
       "    .dataframe tbody tr th:only-of-type {\n",
       "        vertical-align: middle;\n",
       "    }\n",
       "\n",
       "    .dataframe tbody tr th {\n",
       "        vertical-align: top;\n",
       "    }\n",
       "\n",
       "    .dataframe thead th {\n",
       "        text-align: right;\n",
       "    }\n",
       "</style>\n",
       "<table border=\"1\" class=\"dataframe\">\n",
       "  <thead>\n",
       "    <tr style=\"text-align: right;\">\n",
       "      <th></th>\n",
       "      <th>Borough</th>\n",
       "      <th>LandArea</th>\n",
       "      <th>Incidents</th>\n",
       "    </tr>\n",
       "  </thead>\n",
       "  <tbody>\n",
       "    <tr>\n",
       "      <th>0</th>\n",
       "      <td>Barking And dagenham</td>\n",
       "      <td>3,611</td>\n",
       "      <td>854</td>\n",
       "    </tr>\n",
       "    <tr>\n",
       "      <th>1</th>\n",
       "      <td>Barnet</td>\n",
       "      <td>8,675</td>\n",
       "      <td>1800</td>\n",
       "    </tr>\n",
       "    <tr>\n",
       "      <th>2</th>\n",
       "      <td>Bexley</td>\n",
       "      <td>6,058</td>\n",
       "      <td>1041</td>\n",
       "    </tr>\n",
       "    <tr>\n",
       "      <th>3</th>\n",
       "      <td>Brent</td>\n",
       "      <td>4,323</td>\n",
       "      <td>1450</td>\n",
       "    </tr>\n",
       "    <tr>\n",
       "      <th>4</th>\n",
       "      <td>Bromley</td>\n",
       "      <td>15,013</td>\n",
       "      <td>1244</td>\n",
       "    </tr>\n",
       "    <tr>\n",
       "      <th>5</th>\n",
       "      <td>Camden</td>\n",
       "      <td>2,179</td>\n",
       "      <td>2935</td>\n",
       "    </tr>\n",
       "    <tr>\n",
       "      <th>6</th>\n",
       "      <td>City Of london</td>\n",
       "      <td>290</td>\n",
       "      <td>967</td>\n",
       "    </tr>\n",
       "    <tr>\n",
       "      <th>7</th>\n",
       "      <td>Croydon</td>\n",
       "      <td>8,650</td>\n",
       "      <td>1648</td>\n",
       "    </tr>\n",
       "    <tr>\n",
       "      <th>8</th>\n",
       "      <td>Ealing</td>\n",
       "      <td>5,554</td>\n",
       "      <td>1761</td>\n",
       "    </tr>\n",
       "    <tr>\n",
       "      <th>9</th>\n",
       "      <td>Enfield</td>\n",
       "      <td>8,083</td>\n",
       "      <td>1288</td>\n",
       "    </tr>\n",
       "    <tr>\n",
       "      <th>10</th>\n",
       "      <td>Greenwich</td>\n",
       "      <td>4,733</td>\n",
       "      <td>1318</td>\n",
       "    </tr>\n",
       "    <tr>\n",
       "      <th>11</th>\n",
       "      <td>Hackney</td>\n",
       "      <td>1,905</td>\n",
       "      <td>1833</td>\n",
       "    </tr>\n",
       "    <tr>\n",
       "      <th>12</th>\n",
       "      <td>Hammersmith And fulham</td>\n",
       "      <td>1,640</td>\n",
       "      <td>1640</td>\n",
       "    </tr>\n",
       "    <tr>\n",
       "      <th>13</th>\n",
       "      <td>Haringey</td>\n",
       "      <td>2,960</td>\n",
       "      <td>1308</td>\n",
       "    </tr>\n",
       "    <tr>\n",
       "      <th>14</th>\n",
       "      <td>Harrow</td>\n",
       "      <td>5,046</td>\n",
       "      <td>916</td>\n",
       "    </tr>\n",
       "    <tr>\n",
       "      <th>15</th>\n",
       "      <td>Havering</td>\n",
       "      <td>11,235</td>\n",
       "      <td>1017</td>\n",
       "    </tr>\n",
       "    <tr>\n",
       "      <th>16</th>\n",
       "      <td>Hillingdon</td>\n",
       "      <td>11,570</td>\n",
       "      <td>1521</td>\n",
       "    </tr>\n",
       "    <tr>\n",
       "      <th>17</th>\n",
       "      <td>Hounslow</td>\n",
       "      <td>5,598</td>\n",
       "      <td>1265</td>\n",
       "    </tr>\n",
       "    <tr>\n",
       "      <th>18</th>\n",
       "      <td>Islington</td>\n",
       "      <td>1,486</td>\n",
       "      <td>1723</td>\n",
       "    </tr>\n",
       "    <tr>\n",
       "      <th>19</th>\n",
       "      <td>Kensington And chelsea</td>\n",
       "      <td>1,212</td>\n",
       "      <td>2072</td>\n",
       "    </tr>\n",
       "    <tr>\n",
       "      <th>20</th>\n",
       "      <td>Kingston Upon thames</td>\n",
       "      <td>3,726</td>\n",
       "      <td>867</td>\n",
       "    </tr>\n",
       "    <tr>\n",
       "      <th>21</th>\n",
       "      <td>Lambeth</td>\n",
       "      <td>2,681</td>\n",
       "      <td>1853</td>\n",
       "    </tr>\n",
       "    <tr>\n",
       "      <th>22</th>\n",
       "      <td>Lewisham</td>\n",
       "      <td>3,515</td>\n",
       "      <td>1744</td>\n",
       "    </tr>\n",
       "    <tr>\n",
       "      <th>23</th>\n",
       "      <td>Merton</td>\n",
       "      <td>3,762</td>\n",
       "      <td>891</td>\n",
       "    </tr>\n",
       "    <tr>\n",
       "      <th>24</th>\n",
       "      <td>Newham</td>\n",
       "      <td>3,620</td>\n",
       "      <td>1326</td>\n",
       "    </tr>\n",
       "    <tr>\n",
       "      <th>25</th>\n",
       "      <td>Redbridge</td>\n",
       "      <td>5,642</td>\n",
       "      <td>1053</td>\n",
       "    </tr>\n",
       "    <tr>\n",
       "      <th>26</th>\n",
       "      <td>Richmond Upon thames</td>\n",
       "      <td>5,741</td>\n",
       "      <td>1055</td>\n",
       "    </tr>\n",
       "    <tr>\n",
       "      <th>27</th>\n",
       "      <td>Southwark</td>\n",
       "      <td>2,886</td>\n",
       "      <td>2334</td>\n",
       "    </tr>\n",
       "    <tr>\n",
       "      <th>28</th>\n",
       "      <td>Sutton</td>\n",
       "      <td>4,385</td>\n",
       "      <td>869</td>\n",
       "    </tr>\n",
       "    <tr>\n",
       "      <th>29</th>\n",
       "      <td>Tower Hamlets</td>\n",
       "      <td>1,978</td>\n",
       "      <td>1836</td>\n",
       "    </tr>\n",
       "    <tr>\n",
       "      <th>30</th>\n",
       "      <td>Waltham Forest</td>\n",
       "      <td>3,881</td>\n",
       "      <td>1415</td>\n",
       "    </tr>\n",
       "    <tr>\n",
       "      <th>31</th>\n",
       "      <td>Wandsworth</td>\n",
       "      <td>3,426</td>\n",
       "      <td>1519</td>\n",
       "    </tr>\n",
       "    <tr>\n",
       "      <th>32</th>\n",
       "      <td>Westminster</td>\n",
       "      <td>2,149</td>\n",
       "      <td>5364</td>\n",
       "    </tr>\n",
       "  </tbody>\n",
       "</table>\n",
       "</div>"
      ],
      "text/plain": [
       "                   Borough LandArea  Incidents\n",
       "0     Barking And dagenham    3,611        854\n",
       "1                   Barnet    8,675       1800\n",
       "2                   Bexley    6,058       1041\n",
       "3                    Brent    4,323       1450\n",
       "4                  Bromley   15,013       1244\n",
       "5                   Camden    2,179       2935\n",
       "6           City Of london      290        967\n",
       "7                  Croydon    8,650       1648\n",
       "8                   Ealing    5,554       1761\n",
       "9                  Enfield    8,083       1288\n",
       "10               Greenwich    4,733       1318\n",
       "11                 Hackney    1,905       1833\n",
       "12  Hammersmith And fulham    1,640       1640\n",
       "13                Haringey    2,960       1308\n",
       "14                  Harrow    5,046        916\n",
       "15                Havering   11,235       1017\n",
       "16              Hillingdon   11,570       1521\n",
       "17                Hounslow    5,598       1265\n",
       "18               Islington    1,486       1723\n",
       "19  Kensington And chelsea    1,212       2072\n",
       "20    Kingston Upon thames    3,726        867\n",
       "21                 Lambeth    2,681       1853\n",
       "22                Lewisham    3,515       1744\n",
       "23                  Merton    3,762        891\n",
       "24                  Newham    3,620       1326\n",
       "25               Redbridge    5,642       1053\n",
       "26    Richmond Upon thames    5,741       1055\n",
       "27               Southwark    2,886       2334\n",
       "28                  Sutton    4,385        869\n",
       "29           Tower Hamlets    1,978       1836\n",
       "30          Waltham Forest    3,881       1415\n",
       "31              Wandsworth    3,426       1519\n",
       "32             Westminster    2,149       5364"
      ]
     },
     "execution_count": 133,
     "metadata": {},
     "output_type": "execute_result"
    }
   ],
   "source": [
    "# per land area\n",
    "\n",
    "df_land = df_fa.groupby(['ProperCase', 'Inland_Area_(Hectares)'], as_index=False)['DateOfCall'].count()\n",
    "df_land.columns = ['Borough', 'LandArea', 'Incidents']\n",
    "df_land\n"
   ]
  },
  {
   "cell_type": "code",
   "execution_count": 9,
   "id": "d52e6f43",
   "metadata": {
    "ExecuteTime": {
     "end_time": "2021-07-22T06:25:37.540696Z",
     "start_time": "2021-07-22T06:25:37.495202Z"
    }
   },
   "outputs": [
    {
     "data": {
      "text/html": [
       "<div>\n",
       "<style scoped>\n",
       "    .dataframe tbody tr th:only-of-type {\n",
       "        vertical-align: middle;\n",
       "    }\n",
       "\n",
       "    .dataframe tbody tr th {\n",
       "        vertical-align: top;\n",
       "    }\n",
       "\n",
       "    .dataframe thead th {\n",
       "        text-align: right;\n",
       "    }\n",
       "</style>\n",
       "<table border=\"1\" class=\"dataframe\">\n",
       "  <thead>\n",
       "    <tr style=\"text-align: right;\">\n",
       "      <th></th>\n",
       "      <th>CalYear</th>\n",
       "      <th>2017</th>\n",
       "    </tr>\n",
       "    <tr>\n",
       "      <th>ProperCase</th>\n",
       "      <th>%_of_resident_population_born_abroad_(2015)</th>\n",
       "      <th></th>\n",
       "    </tr>\n",
       "  </thead>\n",
       "  <tbody>\n",
       "    <tr>\n",
       "      <th>Barking And dagenham</th>\n",
       "      <th>37.8</th>\n",
       "      <td>854</td>\n",
       "    </tr>\n",
       "    <tr>\n",
       "      <th>Barnet</th>\n",
       "      <th>35.2</th>\n",
       "      <td>1800</td>\n",
       "    </tr>\n",
       "    <tr>\n",
       "      <th>Bexley</th>\n",
       "      <th>16.1</th>\n",
       "      <td>1041</td>\n",
       "    </tr>\n",
       "    <tr>\n",
       "      <th>Brent</th>\n",
       "      <th>53.9</th>\n",
       "      <td>1450</td>\n",
       "    </tr>\n",
       "    <tr>\n",
       "      <th>Bromley</th>\n",
       "      <th>18.3</th>\n",
       "      <td>1244</td>\n",
       "    </tr>\n",
       "    <tr>\n",
       "      <th>Camden</th>\n",
       "      <th>41.4</th>\n",
       "      <td>2935</td>\n",
       "    </tr>\n",
       "    <tr>\n",
       "      <th>City Of london</th>\n",
       "      <th>.</th>\n",
       "      <td>967</td>\n",
       "    </tr>\n",
       "    <tr>\n",
       "      <th>Croydon</th>\n",
       "      <th>29.4</th>\n",
       "      <td>1648</td>\n",
       "    </tr>\n",
       "    <tr>\n",
       "      <th>Ealing</th>\n",
       "      <th>47.4</th>\n",
       "      <td>1761</td>\n",
       "    </tr>\n",
       "    <tr>\n",
       "      <th>Enfield</th>\n",
       "      <th>35</th>\n",
       "      <td>1288</td>\n",
       "    </tr>\n",
       "    <tr>\n",
       "      <th>Greenwich</th>\n",
       "      <th>35.4</th>\n",
       "      <td>1318</td>\n",
       "    </tr>\n",
       "    <tr>\n",
       "      <th>Hackney</th>\n",
       "      <th>35.8</th>\n",
       "      <td>1833</td>\n",
       "    </tr>\n",
       "    <tr>\n",
       "      <th>Hammersmith And fulham</th>\n",
       "      <th>43.2</th>\n",
       "      <td>1640</td>\n",
       "    </tr>\n",
       "    <tr>\n",
       "      <th>Haringey</th>\n",
       "      <th>39.6</th>\n",
       "      <td>1308</td>\n",
       "    </tr>\n",
       "    <tr>\n",
       "      <th>Harrow</th>\n",
       "      <th>49.6</th>\n",
       "      <td>916</td>\n",
       "    </tr>\n",
       "    <tr>\n",
       "      <th>Havering</th>\n",
       "      <th>10.9</th>\n",
       "      <td>1017</td>\n",
       "    </tr>\n",
       "    <tr>\n",
       "      <th>Hillingdon</th>\n",
       "      <th>32.4</th>\n",
       "      <td>1521</td>\n",
       "    </tr>\n",
       "    <tr>\n",
       "      <th>Hounslow</th>\n",
       "      <th>46.3</th>\n",
       "      <td>1265</td>\n",
       "    </tr>\n",
       "    <tr>\n",
       "      <th>Islington</th>\n",
       "      <th>36.6</th>\n",
       "      <td>1723</td>\n",
       "    </tr>\n",
       "    <tr>\n",
       "      <th>Kensington And chelsea</th>\n",
       "      <th>51.9</th>\n",
       "      <td>2072</td>\n",
       "    </tr>\n",
       "    <tr>\n",
       "      <th>Kingston Upon thames</th>\n",
       "      <th>29.8</th>\n",
       "      <td>867</td>\n",
       "    </tr>\n",
       "    <tr>\n",
       "      <th>Lambeth</th>\n",
       "      <th>32.2</th>\n",
       "      <td>1853</td>\n",
       "    </tr>\n",
       "    <tr>\n",
       "      <th>Lewisham</th>\n",
       "      <th>34.9</th>\n",
       "      <td>1744</td>\n",
       "    </tr>\n",
       "    <tr>\n",
       "      <th>Merton</th>\n",
       "      <th>37.4</th>\n",
       "      <td>891</td>\n",
       "    </tr>\n",
       "    <tr>\n",
       "      <th>Newham</th>\n",
       "      <th>54.1</th>\n",
       "      <td>1326</td>\n",
       "    </tr>\n",
       "    <tr>\n",
       "      <th>Redbridge</th>\n",
       "      <th>40.2</th>\n",
       "      <td>1053</td>\n",
       "    </tr>\n",
       "    <tr>\n",
       "      <th>Richmond Upon thames</th>\n",
       "      <th>23.7</th>\n",
       "      <td>1055</td>\n",
       "    </tr>\n",
       "    <tr>\n",
       "      <th>Southwark</th>\n",
       "      <th>38.4</th>\n",
       "      <td>2334</td>\n",
       "    </tr>\n",
       "    <tr>\n",
       "      <th>Sutton</th>\n",
       "      <th>23.1</th>\n",
       "      <td>869</td>\n",
       "    </tr>\n",
       "    <tr>\n",
       "      <th>Tower Hamlets</th>\n",
       "      <th>38.6</th>\n",
       "      <td>1836</td>\n",
       "    </tr>\n",
       "    <tr>\n",
       "      <th>Waltham Forest</th>\n",
       "      <th>37.2</th>\n",
       "      <td>1415</td>\n",
       "    </tr>\n",
       "    <tr>\n",
       "      <th>Wandsworth</th>\n",
       "      <th>32.8</th>\n",
       "      <td>1519</td>\n",
       "    </tr>\n",
       "    <tr>\n",
       "      <th>Westminster</th>\n",
       "      <th>49.8</th>\n",
       "      <td>5364</td>\n",
       "    </tr>\n",
       "  </tbody>\n",
       "</table>\n",
       "</div>"
      ],
      "text/plain": [
       "CalYear                                                             2017\n",
       "ProperCase             %_of_resident_population_born_abroad_(2015)      \n",
       "Barking And dagenham   37.8                                          854\n",
       "Barnet                 35.2                                         1800\n",
       "Bexley                 16.1                                         1041\n",
       "Brent                  53.9                                         1450\n",
       "Bromley                18.3                                         1244\n",
       "Camden                 41.4                                         2935\n",
       "City Of london         .                                             967\n",
       "Croydon                29.4                                         1648\n",
       "Ealing                 47.4                                         1761\n",
       "Enfield                35                                           1288\n",
       "Greenwich              35.4                                         1318\n",
       "Hackney                35.8                                         1833\n",
       "Hammersmith And fulham 43.2                                         1640\n",
       "Haringey               39.6                                         1308\n",
       "Harrow                 49.6                                          916\n",
       "Havering               10.9                                         1017\n",
       "Hillingdon             32.4                                         1521\n",
       "Hounslow               46.3                                         1265\n",
       "Islington              36.6                                         1723\n",
       "Kensington And chelsea 51.9                                         2072\n",
       "Kingston Upon thames   29.8                                          867\n",
       "Lambeth                32.2                                         1853\n",
       "Lewisham               34.9                                         1744\n",
       "Merton                 37.4                                          891\n",
       "Newham                 54.1                                         1326\n",
       "Redbridge              40.2                                         1053\n",
       "Richmond Upon thames   23.7                                         1055\n",
       "Southwark              38.4                                         2334\n",
       "Sutton                 23.1                                          869\n",
       "Tower Hamlets          38.6                                         1836\n",
       "Waltham Forest         37.2                                         1415\n",
       "Wandsworth             32.8                                         1519\n",
       "Westminster            49.8                                         5364"
      ]
     },
     "execution_count": 9,
     "metadata": {},
     "output_type": "execute_result"
    }
   ],
   "source": [
    "# Per Borough - Pop % born abroad - per year\n",
    "\n",
    "pd.pivot_table(df_fa\n",
    "               , values='DateOfCall'\n",
    "               , index=['ProperCase', '%_of_resident_population_born_abroad_(2015)']\n",
    "               , columns='CalYear'\n",
    "               , aggfunc=len)\n"
   ]
  },
  {
   "cell_type": "code",
   "execution_count": 10,
   "id": "f927444b",
   "metadata": {
    "ExecuteTime": {
     "end_time": "2021-07-22T06:25:39.417169Z",
     "start_time": "2021-07-22T06:25:39.150524Z"
    }
   },
   "outputs": [
    {
     "data": {
      "image/png": "[encoded data removed]",
      "text/plain": [
       "<Figure size 432x288 with 1 Axes>"
      ]
     },
     "metadata": {
      "needs_background": "light"
     },
     "output_type": "display_data"
    }
   ],
   "source": [
    "# by % of population born abroad\n",
    "\n",
    "df_abr = df_fa.groupby(['ProperCase', '%_of_resident_population_born_abroad_(2015)'],\n",
    "              as_index=False)['DateOfCall'].count()\n",
    "df_abr.columns = ['Borough', 'popn_born_abroad_15', 'Incidents']\n",
    "\n",
    "plt.scatter(df_abr.popn_born_abroad_15, df_abr.Incidents)\n",
    "plt.xticks(rotation=90)\n",
    "plt.show()\n"
   ]
  },
  {
   "cell_type": "code",
   "execution_count": 11,
   "id": "0d50c682",
   "metadata": {
    "ExecuteTime": {
     "end_time": "2021-07-22T06:25:40.768472Z",
     "start_time": "2021-07-22T06:25:40.528976Z"
    }
   },
   "outputs": [
    {
     "data": {
      "image/png": "[encoded data removed]",
      "text/plain": [
       "<Figure size 432x288 with 1 Axes>"
      ]
     },
     "metadata": {
      "needs_background": "light"
     },
     "output_type": "display_data"
    }
   ],
   "source": [
    "df_abr = df_afa.groupby(['ProperCase'\n",
    "            , '%_of_resident_population_born_abroad_(2015)']\n",
    "            , as_index=False)['DateOfCall'].count()\n",
    "df_abr.columns = ['Borough', 'popn_born_abroad_15', 'Incidents']\n",
    "\n",
    "plt.scatter(df_abr.popn_born_abroad_15, df_abr.Incidents)\n",
    "plt.xticks(rotation=90)\n",
    "plt.show()"
   ]
  },
  {
   "cell_type": "code",
   "execution_count": 12,
   "id": "42c08781",
   "metadata": {
    "ExecuteTime": {
     "end_time": "2021-07-22T06:25:41.765600Z",
     "start_time": "2021-07-22T06:25:41.522691Z"
    }
   },
   "outputs": [
    {
     "data": {
      "image/png": "[encoded data removed]",
      "text/plain": [
       "<Figure size 432x288 with 1 Axes>"
      ]
     },
     "metadata": {
      "needs_background": "light"
     },
     "output_type": "display_data"
    }
   ],
   "source": [
    "df_abr = df_good.groupby(['ProperCase'\n",
    "            , '%_of_resident_population_born_abroad_(2015)']\n",
    "            , as_index=False)['DateOfCall'].count()\n",
    "df_abr.columns = ['Borough', 'popn_born_abroad_15', 'Incidents']\n",
    "\n",
    "plt.scatter(df_abr.popn_born_abroad_15, df_abr.Incidents)\n",
    "plt.xticks(rotation=90)\n",
    "plt.show()"
   ]
  },
  {
   "cell_type": "code",
   "execution_count": 13,
   "id": "61f3ed38",
   "metadata": {
    "ExecuteTime": {
     "end_time": "2021-07-22T06:25:43.254096Z",
     "start_time": "2021-07-22T06:25:43.021156Z"
    }
   },
   "outputs": [
    {
     "data": {
      "image/png": "[encoded data removed]",
      "text/plain": [
       "<Figure size 432x288 with 1 Axes>"
      ]
     },
     "metadata": {
      "needs_background": "light"
     },
     "output_type": "display_data"
    }
   ],
   "source": [
    "df_abr = df_bad.groupby(['ProperCase'\n",
    "            , '%_of_resident_population_born_abroad_(2015)']\n",
    "            , as_index=False)['DateOfCall'].count()\n",
    "df_abr.columns = ['Borough', 'popn_born_abroad_15', 'Incidents']\n",
    "\n",
    "plt.scatter(df_abr.popn_born_abroad_15, df_abr.Incidents)\n",
    "plt.xticks(rotation=90)\n",
    "plt.show()"
   ]
  },
  {
   "cell_type": "code",
   "execution_count": 14,
   "id": "baaa25f9",
   "metadata": {
    "ExecuteTime": {
     "end_time": "2021-07-22T06:25:44.076344Z",
     "start_time": "2021-07-22T06:25:43.932863Z"
    }
   },
   "outputs": [
    {
     "data": {
      "image/png": "[encoded data removed]",
      "text/plain": [
       "<Figure size 432x288 with 1 Axes>"
      ]
     },
     "metadata": {
      "needs_background": "light"
     },
     "output_type": "display_data"
    }
   ],
   "source": [
    "# by employment rate\n",
    "df_emp = df_fa.groupby(['ProperCase', 'Employment_rate_(%)_(2015)'],\n",
    "              as_index=False)['DateOfCall'].count()\n",
    "df_emp.columns = ['Borough', 'employment_rate_15', 'Incidents']\n",
    "\n",
    "plt.scatter(df_emp.employment_rate_15, df_emp.Incidents)\n",
    "plt.xticks(rotation=90)\n",
    "plt.show()"
   ]
  },
  {
   "cell_type": "code",
   "execution_count": 15,
   "id": "93ca63ab",
   "metadata": {
    "ExecuteTime": {
     "end_time": "2021-07-22T06:25:45.022297Z",
     "start_time": "2021-07-22T06:25:44.793793Z"
    }
   },
   "outputs": [
    {
     "data": {
      "image/png": "[encoded data removed]",
      "text/plain": [
       "<Figure size 432x288 with 1 Axes>"
      ]
     },
     "metadata": {
      "needs_background": "light"
     },
     "output_type": "display_data"
    }
   ],
   "source": [
    "# by employment rate\n",
    "df_emp = df_afa.groupby(['ProperCase', 'Employment_rate_(%)_(2015)'],\n",
    "              as_index=False)['DateOfCall'].count()\n",
    "df_emp.columns = ['Borough', 'employment_rate_15', 'Incidents']\n",
    "\n",
    "plt.scatter(df_emp.employment_rate_15, df_emp.Incidents)\n",
    "plt.xticks(rotation=90)\n",
    "plt.show()"
   ]
  },
  {
   "cell_type": "code",
   "execution_count": 16,
   "id": "da53145d",
   "metadata": {
    "ExecuteTime": {
     "end_time": "2021-07-22T06:25:45.999093Z",
     "start_time": "2021-07-22T06:25:45.849608Z"
    }
   },
   "outputs": [
    {
     "data": {
      "image/png": "[encoded data removed]",
      "text/plain": [
       "<Figure size 432x288 with 1 Axes>"
      ]
     },
     "metadata": {
      "needs_background": "light"
     },
     "output_type": "display_data"
    }
   ],
   "source": [
    "# by employment rate\n",
    "df_emp = df_good.groupby(['ProperCase', 'Employment_rate_(%)_(2015)'],\n",
    "              as_index=False)['DateOfCall'].count()\n",
    "df_emp.columns = ['Borough', 'employment_rate_15', 'Incidents']\n",
    "\n",
    "plt.scatter(df_emp.employment_rate_15, df_emp.Incidents)\n",
    "plt.xticks(rotation=90)\n",
    "plt.show()"
   ]
  },
  {
   "cell_type": "code",
   "execution_count": 17,
   "id": "ddfeb814",
   "metadata": {
    "ExecuteTime": {
     "end_time": "2021-07-22T06:25:46.781338Z",
     "start_time": "2021-07-22T06:25:46.640056Z"
    }
   },
   "outputs": [
    {
     "data": {
      "image/png": "[encoded data removed]",
      "text/plain": [
       "<Figure size 432x288 with 1 Axes>"
      ]
     },
     "metadata": {
      "needs_background": "light"
     },
     "output_type": "display_data"
    }
   ],
   "source": [
    "# by employment rate\n",
    "df_emp = df_bad.groupby(['ProperCase', 'Employment_rate_(%)_(2015)'],\n",
    "              as_index=False)['DateOfCall'].count()\n",
    "df_emp.columns = ['Borough', 'employment_rate_15', 'Incidents']\n",
    "\n",
    "plt.scatter(df_emp.employment_rate_15, df_emp.Incidents)\n",
    "plt.xticks(rotation=90)\n",
    "plt.show()"
   ]
  },
  {
   "cell_type": "code",
   "execution_count": 18,
   "id": "ae7c360e",
   "metadata": {
    "ExecuteTime": {
     "end_time": "2021-07-22T06:25:47.753409Z",
     "start_time": "2021-07-22T06:25:47.602081Z"
    }
   },
   "outputs": [
    {
     "data": {
      "image/png": "[encoded data removed]",
      "text/plain": [
       "<Figure size 432x288 with 1 Axes>"
      ]
     },
     "metadata": {
      "needs_background": "light"
     },
     "output_type": "display_data"
    }
   ],
   "source": [
    "# by popn density\n",
    "df_popden = df_fa.groupby(['ProperCase', 'Population_density_(per_hectare)_2017'],\n",
    "              as_index=False)['DateOfCall'].count()\n",
    "df_popden.columns = ['Borough', 'popn_density_17', 'Incidents']\n",
    "\n",
    "plt.scatter(df_popden.popn_density_17, df_popden.Incidents)\n",
    "plt.xticks(rotation=90)\n",
    "plt.show()"
   ]
  },
  {
   "cell_type": "code",
   "execution_count": 19,
   "id": "56d3b79e",
   "metadata": {
    "ExecuteTime": {
     "end_time": "2021-07-22T06:25:48.604820Z",
     "start_time": "2021-07-22T06:25:48.450757Z"
    }
   },
   "outputs": [
    {
     "data": {
      "image/png": "[encoded data removed]",
      "text/plain": [
       "<Figure size 432x288 with 1 Axes>"
      ]
     },
     "metadata": {
      "needs_background": "light"
     },
     "output_type": "display_data"
    }
   ],
   "source": [
    "# by popn density\n",
    "df_popden = df_afa.groupby(['ProperCase', 'Population_density_(per_hectare)_2017'],\n",
    "              as_index=False)['DateOfCall'].count()\n",
    "df_popden.columns = ['Borough', 'popn_density_17', 'Incidents']\n",
    "\n",
    "plt.scatter(df_popden.popn_density_17, df_popden.Incidents)\n",
    "plt.xticks(rotation=90)\n",
    "plt.show()"
   ]
  },
  {
   "cell_type": "code",
   "execution_count": 20,
   "id": "2addb14d",
   "metadata": {
    "ExecuteTime": {
     "end_time": "2021-07-22T06:25:49.459652Z",
     "start_time": "2021-07-22T06:25:49.311232Z"
    }
   },
   "outputs": [
    {
     "data": {
      "image/png": "[encoded data removed]",
      "text/plain": [
       "<Figure size 432x288 with 1 Axes>"
      ]
     },
     "metadata": {
      "needs_background": "light"
     },
     "output_type": "display_data"
    }
   ],
   "source": [
    "# by popn density\n",
    "df_popden = df_good.groupby(['ProperCase', 'Population_density_(per_hectare)_2017'],\n",
    "              as_index=False)['DateOfCall'].count()\n",
    "df_popden.columns = ['Borough', 'popn_density_17', 'Incidents']\n",
    "\n",
    "plt.scatter(df_popden.popn_density_17, df_popden.Incidents)\n",
    "plt.xticks(rotation=90)\n",
    "plt.show()"
   ]
  },
  {
   "cell_type": "code",
   "execution_count": 21,
   "id": "8317d221",
   "metadata": {
    "ExecuteTime": {
     "end_time": "2021-07-22T06:25:50.263617Z",
     "start_time": "2021-07-22T06:25:50.127343Z"
    }
   },
   "outputs": [
    {
     "data": {
      "image/png": "[encoded data removed]",
      "text/plain": [
       "<Figure size 432x288 with 1 Axes>"
      ]
     },
     "metadata": {
      "needs_background": "light"
     },
     "output_type": "display_data"
    }
   ],
   "source": [
    "# by popn density\n",
    "df_popden = df_bad.groupby(['ProperCase', 'Population_density_(per_hectare)_2017'],\n",
    "              as_index=False)['DateOfCall'].count()\n",
    "df_popden.columns = ['Borough', 'popn_density_17', 'Incidents']\n",
    "\n",
    "plt.scatter(df_popden.popn_density_17, df_popden.Incidents)\n",
    "plt.xticks(rotation=90)\n",
    "plt.show()"
   ]
  },
  {
   "cell_type": "code",
   "execution_count": null,
   "id": "a79b4336",
   "metadata": {},
   "outputs": [],
   "source": []
  }
 ],
 "metadata": {
  "kernelspec": {
   "display_name": "Python 3",
   "language": "python",
   "name": "python3"
  },
  "language_info": {
   "codemirror_mode": {
    "name": "ipython",
    "version": 3
   },
   "file_extension": ".py",
   "mimetype": "text/x-python",
   "name": "python",
   "nbconvert_exporter": "python",
   "pygments_lexer": "ipython3",
   "version": "3.8.8"
  }
 },
 "nbformat": 4,
 "nbformat_minor": 5
}
